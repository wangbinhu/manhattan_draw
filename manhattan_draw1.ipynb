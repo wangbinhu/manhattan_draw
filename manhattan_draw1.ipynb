{
 "cells": [
  {
   "cell_type": "markdown",
   "metadata": {
    "kernel": "SoS"
   },
   "source": [
    "利用SOS语言进行Manhattan图的绘制 "
   ]
  },
  {
   "cell_type": "markdown",
   "metadata": {
    "kernel": "SoS"
   },
   "source": [
    "导入R包"
   ]
  },
  {
   "cell_type": "code",
   "execution_count": 1,
   "metadata": {
    "kernel": "SoS"
   },
   "outputs": [],
   "source": [
    "[input_library]\n",
    "R:expand=True\n",
    "    library(\"manhattan\")"
   ]
  },
  {
   "cell_type": "code",
   "execution_count": 2,
   "metadata": {
    "kernel": "SoS"
   },
   "outputs": [],
   "source": [
    "[input_dataset]\n",
    "R:expand=True\n",
    "    dataset <- read.csv(\"GAPIT.MLM.ADG.GWAS.Results1.csv\")\n",
    "    fix(dataset)"
   ]
  },
  {
   "cell_type": "code",
   "execution_count": 3,
   "metadata": {
    "kernel": "SoS"
   },
   "outputs": [],
   "source": [
    "[draw_picture]\n",
    "R:expand=True\n",
    "    manhattan(dataset,annotatePval = 0.05,col=c(\"#A4D3EE\",\"#DDA0DD\"))"
   ]
  },
  {
   "cell_type": "code",
   "execution_count": 4,
   "metadata": {
    "kernel": "SoS"
   },
   "outputs": [
    {
     "name": "stdout",
     "output_type": "stream",
     "text": [
      "INFO: Running input_library: \n",
      "ERROR: \n",
      "---------------------------------------------------------------------------\n",
      "RuntimeError                              Traceback (most recent call last)\n",
      "script_5561579299439754860 in <module>\n",
      "      R(fr\"\"\"library(\"manhattan\")\n",
      "      \n",
      "----> \"\"\")\n",
      "\n",
      "RuntimeError: Failed to locate interpreter Rscript\n",
      "ERROR: [input_library]: \n",
      "---------------------------------------------------------------------------\n",
      "RuntimeError                              Traceback (most recent call last)\n",
      "script_5561579299439754860 in <module>\n",
      "      R(fr\"\"\"library(\"manhattan\")\n",
      "      \n",
      "----> \"\"\")\n",
      "\n",
      "RuntimeError: Failed to locate interpreter Rscript\n"
     ]
    }
   ],
   "source": [
    "!sos run manhattan_draw1.ipynb input_library"
   ]
  },
  {
   "cell_type": "code",
   "execution_count": null,
   "metadata": {
    "kernel": "SoS"
   },
   "outputs": [],
   "source": []
  }
 ],
 "metadata": {
  "kernelspec": {
   "display_name": "SoS",
   "language": "sos",
   "name": "sos"
  },
  "language_info": {
   "codemirror_mode": "sos",
   "file_extension": ".sos",
   "mimetype": "text/x-sos",
   "name": "sos",
   "nbconvert_exporter": "sos_notebook.converter.SoS_Exporter",
   "pygments_lexer": "sos"
  },
  "sos": {
   "kernels": [
    [
     "Python3",
     "python3",
     "Python3",
     "#FFD91A"
    ],
    [
     "SoS",
     "sos",
     "",
     ""
    ]
   ],
   "panel": {
    "displayed": true,
    "height": 0,
    "style": "side"
   },
   "version": "0.17.3"
  }
 },
 "nbformat": 4,
 "nbformat_minor": 2
}
